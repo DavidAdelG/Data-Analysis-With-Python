{
  "nbformat": 4,
  "nbformat_minor": 0,
  "metadata": {
    "colab": {
      "provenance": []
    },
    "kernelspec": {
      "name": "python3",
      "display_name": "Python 3"
    },
    "language_info": {
      "name": "python"
    }
  },
  "cells": [
    {
      "cell_type": "markdown",
      "source": [
        "# **examples for non clean code —> clean code**"
      ],
      "metadata": {
        "id": "gd7rqneeVfAh"
      }
    },
    {
      "cell_type": "markdown",
      "source": [
        "**Meaningful Names**\n",
        "\n",
        "Bad:\n",
        "```\n",
        "var d; // elapsed time in days\n",
        "```\n",
        "\n",
        "Good:\n",
        "```\n",
        "var elapsedTimeInDays;\n",
        "var daysSinceCreation;\n",
        "var daysSinceModification;\n",
        "```\n",
        "\n",
        "**Avoid Disinformation**\n",
        "\n",
        "Bad:\n",
        "\n",
        "`var accountList = [];`\n",
        "\n",
        "Good:\n",
        "\n",
        "`var accounts = []`\n",
        "\n",
        "**Avoid Noise Words**\n",
        "\n",
        "Some popular noise words are:\n",
        "\n",
        "    The (prefix)\n",
        "    Info\n",
        "    Data\n",
        "    Variable\n",
        "    Object\n",
        "    Manager\n",
        "Bad:\n",
        "\n",
        "```\n",
        "const yyyymmdstr = moment().format(\"YYYY/MM/DD\");\n",
        "```\n",
        "Good:\n",
        "\n",
        "```\n",
        "const currentDate = moment().format(\"YYYY/MM/DD\");\n",
        "```\n",
        "\n",
        "**Use Searchable Names**\n",
        "\n",
        "Bad:\n",
        "\n",
        "```\n",
        "if (student.classes.length < 7) {\n",
        "   // Do something\n",
        "}\n",
        "```\n",
        "\n",
        "\n",
        "Good:\n",
        "\n",
        "```\n",
        "if (student.classes.length < MAX_CLASSES_PER_STUDENT) {\n",
        "    // Do something\n",
        "}\n",
        "```\n"
      ],
      "metadata": {
        "id": "zYVGOsKEST_i"
      }
    },
    {
      "cell_type": "markdown",
      "source": [
        "# **How to read random rows from Data in memory using pandas without loading the whole data**"
      ],
      "metadata": {
        "id": "4KrxdQV2Vmwl"
      }
    },
    {
      "cell_type": "code",
      "execution_count": null,
      "metadata": {
        "id": "RsaTwamfIMp6"
      },
      "outputs": [],
      "source": []
    },
    {
      "cell_type": "markdown",
      "source": [
        "# **If we have large amounts of data (1tb) what tool will we use instead of pandas**"
      ],
      "metadata": {
        "id": "vVi20tKDWoy9"
      }
    },
    {
      "cell_type": "markdown",
      "source": [
        "Modin, Dask, Vaex, and Pandas-Profiling\n",
        "\n",
        "but dask is the best among  them"
      ],
      "metadata": {
        "id": "Ec-fGFG9W4Y7"
      }
    },
    {
      "cell_type": "markdown",
      "source": [
        "# **Difference between systemic sampling & purposive (judgemental) sampling & quota sampling**"
      ],
      "metadata": {
        "id": "U_Bf5DExXOPq"
      }
    },
    {
      "cell_type": "markdown",
      "source": [
        "**Systematic sampling** is a probability sampling method where researchers select members of the population at a regular interval – for example, by selecting every 15th person on a list of the population. If the population is in a random order, this can imitate the benefits of simple random sampling.\n",
        "\n",
        "**Purposive or judgmental sampling:** This strategy is used in situations where a researcher believes some respondents may be more knowledgable than others, and requires an expert to use their judgment in selecting cases with that purpose in mind.\n",
        "\n",
        "**Quota sampling** is defined as a non-probability sampling method in which researchers create a convenience sample involving individuals that represent a population. Researchers choose these individuals according to specific traits or qualities."
      ],
      "metadata": {
        "id": "Ls4O2yMxYD0T"
      }
    },
    {
      "cell_type": "markdown",
      "source": [
        "# **How to sort dataframe by index, how to sort dataframe by specific column.**"
      ],
      "metadata": {
        "id": "1Cgn2_-MYpPd"
      }
    },
    {
      "cell_type": "markdown",
      "source": [
        "`DataFrame_Name.sort_index(axis=0, ascending=True, inplace=False, kind=’quicksort’)`\n",
        "\n",
        "\n",
        "\n",
        "`df.sort_values('column name')`"
      ],
      "metadata": {
        "id": "hY9rrIssc1cP"
      }
    },
    {
      "cell_type": "markdown",
      "source": [
        "# **how to merge more than 2 dataframes at the same time**"
      ],
      "metadata": {
        "id": "SaWcjNR0dHtT"
      }
    },
    {
      "cell_type": "markdown",
      "source": [
        "`df4 = pd.merge(pd.merge(df1,df2,on='Courses'),df3,on='Courses')`"
      ],
      "metadata": {
        "id": "Wp1cU8dpdWw8"
      }
    },
    {
      "cell_type": "markdown",
      "source": [
        "# **What are the best tools for automation (rpa)**"
      ],
      "metadata": {
        "id": "UHwMSdmFddXD"
      }
    },
    {
      "cell_type": "markdown",
      "source": [
        "1. UiPath --> General Electric Company\n",
        "2. Blue Prism --> KPMG\n",
        "3. Automation Anywhere --> Citi\n",
        "4. WorkFusion --> Deere & Company\n",
        "5. Inflectra Rapise"
      ],
      "metadata": {
        "id": "bVnDZ9pPfee4"
      }
    },
    {
      "cell_type": "markdown",
      "source": [
        "# **What is the difference between data warehouse - database - data lake**"
      ],
      "metadata": {
        "id": "Q9DKbsv4flgl"
      }
    },
    {
      "cell_type": "markdown",
      "source": [
        "**Data Warehouse:**\n",
        "Data warehouses are designed for storing structured, processed, and highly organized data for the purpose of supporting business intelligence (BI) and reporting needs. They are typically used to consolidate data from various sources into a single, unified repository for analysis\n",
        "\n",
        "**Database:**\n",
        "Databases are general-purpose data storage systems that can handle structured, semi-structured, and even unstructured data. They are used for various applications, such as web applications, transaction processing, and content management.\n",
        "\n",
        "**Data Lake:**\n",
        "Data lakes are designed to store vast amounts of raw, unprocessed, and often unstructured data from a variety of sources. They are used for storing data for future analysis and data exploration."
      ],
      "metadata": {
        "id": "c2qR6MjFjiQX"
      }
    },
    {
      "cell_type": "markdown",
      "source": [
        "# **How to read mongodb (json objects)**"
      ],
      "metadata": {
        "id": "AJD89qdmj7U9"
      }
    },
    {
      "cell_type": "markdown",
      "source": [
        "\n",
        "\n",
        "```\n",
        "pd.read_Json\n",
        "```\n",
        "\n"
      ],
      "metadata": {
        "id": "t-4OonppkInr"
      }
    },
    {
      "cell_type": "markdown",
      "source": [
        "# **What is the difference between relational database - non relational database**"
      ],
      "metadata": {
        "id": "jHF1a9eLkMq4"
      }
    },
    {
      "cell_type": "markdown",
      "source": [
        "**Relational Database:** RDBMSs store data in tables with rows and columns. Data is structured, and the relationships between different tables are defined through foreign keys, enforcing a schema.\n",
        "\n",
        "**Non-Relational Database (NoSQL):** NoSQL databases use various data models, including document, key-value, column-family, and graph. They provide more flexibility in data representation and can store semi-structured or unstructured data."
      ],
      "metadata": {
        "id": "2fHfahrRke1j"
      }
    },
    {
      "cell_type": "markdown",
      "source": [
        "# **What is vector database**"
      ],
      "metadata": {
        "id": "HKLTA_Pkks-8"
      }
    },
    {
      "cell_type": "markdown",
      "source": [
        "is a type of database system that is designed to efficiently store and manage vector data. Vector data, in this context, typically refers to geometric and spatial data, where information is represented as a collection of vectors, points, lines, and polygons. This type of data is commonly used in geographic information systems (GIS), mapping applications, and various fields such as geospatial analysis, computer-aided design (CAD), and more."
      ],
      "metadata": {
        "id": "RxdIKwMHkzUh"
      }
    },
    {
      "cell_type": "markdown",
      "source": [
        "# **New Section**"
      ],
      "metadata": {
        "id": "4Fy_SdxBk5yd"
      }
    },
    {
      "cell_type": "markdown",
      "source": [
        "**Label Encoder:**\n",
        "\n",
        "Purpose: The Label Encoder is used to convert categorical labels into numerical values. It assigns a unique integer to each category. The assigned integers have an arbitrary order, and this may imply an ordinal relationship that doesn't exist in the data.\n",
        "Example: If you have a \"Color\" column with categories \"Red,\" \"Green,\" and \"Blue,\" Label Encoder might assign values like 0, 1, and 2 to these categories.\n",
        "\n",
        "**Ordinal Encoder:**\n",
        "\n",
        "Purpose: Ordinal Encoder is specifically designed for ordinal categorical data, where the categories have a meaningful order or rank. It assigns numerical values to categories based on the specified order.\n",
        "Example: If you have an \"Education Level\" column with categories \"High School,\" \"Bachelor's,\" and \"Master's,\" you can use Ordinal Encoder to map them to values like 0, 1, and 2 to reflect the educational hierarchy.\n",
        "\n",
        "**One-Hot Encoder:**\n",
        "\n",
        "Purpose: One-Hot Encoder is used to convert categorical data into a binary matrix (0s and 1s) where each category is represented by a separate binary column. It's suitable for nominal data, where categories have no inherent order.\n",
        "Example: If you have a \"Country\" column with categories \"USA,\" \"Canada,\" and \"Mexico,\" One-Hot Encoder will create three binary columns, each representing one of these countries, with values like (1, 0, 0), (0, 1, 0), and (0, 0, 1)."
      ],
      "metadata": {
        "id": "Et7TD2s2nang"
      }
    }
  ]
}